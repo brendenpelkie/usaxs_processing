{
 "cells": [
  {
   "cell_type": "code",
   "execution_count": 3,
   "id": "5bc72652-23a6-4abb-bbd5-d9f7d7369103",
   "metadata": {},
   "outputs": [],
   "source": [
    "import requests\n",
    "import json"
   ]
  },
  {
   "cell_type": "code",
   "execution_count": 36,
   "id": "afbceb56-2344-4887-ace5-d1f340bb6850",
   "metadata": {},
   "outputs": [],
   "source": [
    "\n",
    "url = 'http://127.0.0.1:5000/update_data'\n",
    "file_path = './0bfe570a-c73d-4628-95a0-2a6d5b319df9.dat'\n",
    "json_data = {'uuid':'0bfe570a-c73d-4628-95a0-2a6d5b319df9', 'teos_vf':0.1}\n",
    "\n",
    "with open(file_path, 'rb') as f:\n",
    "    files = {'file': f}\n",
    "    data = {'data': json.dumps(json_data)}\n",
    "    response = requests.post(url, files=files, data=data)"
   ]
  },
  {
   "cell_type": "code",
   "execution_count": 37,
   "id": "f5e53f77-4bd9-417f-bf87-d065b263152b",
   "metadata": {},
   "outputs": [
    {
     "data": {
      "text/plain": [
       "<Response [200]>"
      ]
     },
     "execution_count": 37,
     "metadata": {},
     "output_type": "execute_result"
    }
   ],
   "source": [
    "response"
   ]
  },
  {
   "cell_type": "code",
   "execution_count": 38,
   "id": "a67de568-0ba4-4ea5-b3e0-0f16ea8db2bb",
   "metadata": {},
   "outputs": [
    {
     "data": {
      "text/plain": [
       "'{\\n  \"data\": {\\n    \"teos_vf\": 0.1,\\n    \"uuid\": \"0bfe570a-c73d-4628-95a0-2a6d5b319df9\"\\n  },\\n  \"file_path\": \"data/0bfe570a-c73d-4628-95a0-2a6d5b319df9.dat\",\\n  \"message\": \"File uploaded successfully\"\\n}\\n'"
      ]
     },
     "execution_count": 38,
     "metadata": {},
     "output_type": "execute_result"
    }
   ],
   "source": [
    "response.text"
   ]
  },
  {
   "cell_type": "code",
   "execution_count": 39,
   "id": "f8bd6e35-2652-4a20-9fcd-8a5a087f78ea",
   "metadata": {},
   "outputs": [],
   "source": [
    "url = 'http://127.0.0.1:5000/get_sample'\n",
    "r = requests.post(url, json = {'uuid':'0bfe570a-c73d-4628-95a0-2a6d5b319df9'})\n"
   ]
  },
  {
   "cell_type": "code",
   "execution_count": 40,
   "id": "b63b7d84-62eb-4e6f-929a-df2efcafea72",
   "metadata": {},
   "outputs": [
    {
     "data": {
      "text/plain": [
       "<Response [200]>"
      ]
     },
     "execution_count": 40,
     "metadata": {},
     "output_type": "execute_result"
    }
   ],
   "source": [
    "r"
   ]
  },
  {
   "cell_type": "code",
   "execution_count": 41,
   "id": "70b02daa-1d29-40d2-bae3-3e34ec39952b",
   "metadata": {},
   "outputs": [
    {
     "data": {
      "text/plain": [
       "[]"
      ]
     },
     "execution_count": 41,
     "metadata": {},
     "output_type": "execute_result"
    }
   ],
   "source": [
    "r.json()"
   ]
  },
  {
   "cell_type": "code",
   "execution_count": null,
   "id": "2c8d21bf-a793-4995-aeef-68aee491a8ec",
   "metadata": {},
   "outputs": [],
   "source": []
  }
 ],
 "metadata": {
  "kernelspec": {
   "display_name": "Python 3 (ipykernel)",
   "language": "python",
   "name": "python3"
  },
  "language_info": {
   "codemirror_mode": {
    "name": "ipython",
    "version": 3
   },
   "file_extension": ".py",
   "mimetype": "text/x-python",
   "name": "python",
   "nbconvert_exporter": "python",
   "pygments_lexer": "ipython3",
   "version": "3.12.7"
  }
 },
 "nbformat": 4,
 "nbformat_minor": 5
}
